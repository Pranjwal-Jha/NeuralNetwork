{
 "cells": [
  {
   "cell_type": "code",
   "execution_count": 113,
   "metadata": {},
   "outputs": [],
   "source": [
    "import pandas as pd\n",
    "from sklearn.model_selection import train_test_split\n",
    "import torch\n",
    "from torch.utils.data import Dataset, DataLoader\n",
    "import torch.nn as nn\n",
    "import torch.optim as optim\n",
    "import matplotlib.pyplot as plt\n",
    "import optuna"
   ]
  },
  {
   "cell_type": "code",
   "execution_count": 114,
   "metadata": {},
   "outputs": [
    {
     "name": "stdout",
     "output_type": "stream",
     "text": [
      "Using device cuda\n"
     ]
    }
   ],
   "source": [
    "device=torch.device('cuda' if torch.cuda.is_available() else 'cpu')\n",
    "print(f'Using device {device}')"
   ]
  },
  {
   "cell_type": "code",
   "execution_count": 115,
   "metadata": {},
   "outputs": [
    {
     "data": {
      "text/html": [
       "<div>\n",
       "<style scoped>\n",
       "    .dataframe tbody tr th:only-of-type {\n",
       "        vertical-align: middle;\n",
       "    }\n",
       "\n",
       "    .dataframe tbody tr th {\n",
       "        vertical-align: top;\n",
       "    }\n",
       "\n",
       "    .dataframe thead th {\n",
       "        text-align: right;\n",
       "    }\n",
       "</style>\n",
       "<table border=\"1\" class=\"dataframe\">\n",
       "  <thead>\n",
       "    <tr style=\"text-align: right;\">\n",
       "      <th></th>\n",
       "      <th>label</th>\n",
       "      <th>pixel1</th>\n",
       "      <th>pixel2</th>\n",
       "      <th>pixel3</th>\n",
       "      <th>pixel4</th>\n",
       "      <th>pixel5</th>\n",
       "      <th>pixel6</th>\n",
       "      <th>pixel7</th>\n",
       "      <th>pixel8</th>\n",
       "      <th>pixel9</th>\n",
       "      <th>...</th>\n",
       "      <th>pixel775</th>\n",
       "      <th>pixel776</th>\n",
       "      <th>pixel777</th>\n",
       "      <th>pixel778</th>\n",
       "      <th>pixel779</th>\n",
       "      <th>pixel780</th>\n",
       "      <th>pixel781</th>\n",
       "      <th>pixel782</th>\n",
       "      <th>pixel783</th>\n",
       "      <th>pixel784</th>\n",
       "    </tr>\n",
       "  </thead>\n",
       "  <tbody>\n",
       "    <tr>\n",
       "      <th>0</th>\n",
       "      <td>9</td>\n",
       "      <td>0</td>\n",
       "      <td>0</td>\n",
       "      <td>0</td>\n",
       "      <td>0</td>\n",
       "      <td>0</td>\n",
       "      <td>0</td>\n",
       "      <td>0</td>\n",
       "      <td>0</td>\n",
       "      <td>0</td>\n",
       "      <td>...</td>\n",
       "      <td>0</td>\n",
       "      <td>7</td>\n",
       "      <td>0</td>\n",
       "      <td>50</td>\n",
       "      <td>205</td>\n",
       "      <td>196</td>\n",
       "      <td>213</td>\n",
       "      <td>165</td>\n",
       "      <td>0</td>\n",
       "      <td>0</td>\n",
       "    </tr>\n",
       "    <tr>\n",
       "      <th>1</th>\n",
       "      <td>7</td>\n",
       "      <td>0</td>\n",
       "      <td>0</td>\n",
       "      <td>0</td>\n",
       "      <td>0</td>\n",
       "      <td>0</td>\n",
       "      <td>0</td>\n",
       "      <td>0</td>\n",
       "      <td>0</td>\n",
       "      <td>0</td>\n",
       "      <td>...</td>\n",
       "      <td>0</td>\n",
       "      <td>0</td>\n",
       "      <td>0</td>\n",
       "      <td>0</td>\n",
       "      <td>0</td>\n",
       "      <td>0</td>\n",
       "      <td>0</td>\n",
       "      <td>0</td>\n",
       "      <td>0</td>\n",
       "      <td>0</td>\n",
       "    </tr>\n",
       "    <tr>\n",
       "      <th>2</th>\n",
       "      <td>0</td>\n",
       "      <td>0</td>\n",
       "      <td>0</td>\n",
       "      <td>0</td>\n",
       "      <td>0</td>\n",
       "      <td>0</td>\n",
       "      <td>1</td>\n",
       "      <td>0</td>\n",
       "      <td>0</td>\n",
       "      <td>0</td>\n",
       "      <td>...</td>\n",
       "      <td>142</td>\n",
       "      <td>142</td>\n",
       "      <td>142</td>\n",
       "      <td>21</td>\n",
       "      <td>0</td>\n",
       "      <td>3</td>\n",
       "      <td>0</td>\n",
       "      <td>0</td>\n",
       "      <td>0</td>\n",
       "      <td>0</td>\n",
       "    </tr>\n",
       "    <tr>\n",
       "      <th>3</th>\n",
       "      <td>8</td>\n",
       "      <td>0</td>\n",
       "      <td>0</td>\n",
       "      <td>0</td>\n",
       "      <td>0</td>\n",
       "      <td>0</td>\n",
       "      <td>0</td>\n",
       "      <td>0</td>\n",
       "      <td>0</td>\n",
       "      <td>0</td>\n",
       "      <td>...</td>\n",
       "      <td>0</td>\n",
       "      <td>0</td>\n",
       "      <td>0</td>\n",
       "      <td>0</td>\n",
       "      <td>0</td>\n",
       "      <td>0</td>\n",
       "      <td>0</td>\n",
       "      <td>0</td>\n",
       "      <td>0</td>\n",
       "      <td>0</td>\n",
       "    </tr>\n",
       "    <tr>\n",
       "      <th>4</th>\n",
       "      <td>8</td>\n",
       "      <td>0</td>\n",
       "      <td>0</td>\n",
       "      <td>0</td>\n",
       "      <td>0</td>\n",
       "      <td>0</td>\n",
       "      <td>0</td>\n",
       "      <td>0</td>\n",
       "      <td>0</td>\n",
       "      <td>0</td>\n",
       "      <td>...</td>\n",
       "      <td>213</td>\n",
       "      <td>203</td>\n",
       "      <td>174</td>\n",
       "      <td>151</td>\n",
       "      <td>188</td>\n",
       "      <td>10</td>\n",
       "      <td>0</td>\n",
       "      <td>0</td>\n",
       "      <td>0</td>\n",
       "      <td>0</td>\n",
       "    </tr>\n",
       "  </tbody>\n",
       "</table>\n",
       "<p>5 rows × 785 columns</p>\n",
       "</div>"
      ],
      "text/plain": [
       "   label  pixel1  pixel2  pixel3  pixel4  pixel5  pixel6  pixel7  pixel8  \\\n",
       "0      9       0       0       0       0       0       0       0       0   \n",
       "1      7       0       0       0       0       0       0       0       0   \n",
       "2      0       0       0       0       0       0       1       0       0   \n",
       "3      8       0       0       0       0       0       0       0       0   \n",
       "4      8       0       0       0       0       0       0       0       0   \n",
       "\n",
       "   pixel9  ...  pixel775  pixel776  pixel777  pixel778  pixel779  pixel780  \\\n",
       "0       0  ...         0         7         0        50       205       196   \n",
       "1       0  ...         0         0         0         0         0         0   \n",
       "2       0  ...       142       142       142        21         0         3   \n",
       "3       0  ...         0         0         0         0         0         0   \n",
       "4       0  ...       213       203       174       151       188        10   \n",
       "\n",
       "   pixel781  pixel782  pixel783  pixel784  \n",
       "0       213       165         0         0  \n",
       "1         0         0         0         0  \n",
       "2         0         0         0         0  \n",
       "3         0         0         0         0  \n",
       "4         0         0         0         0  \n",
       "\n",
       "[5 rows x 785 columns]"
      ]
     },
     "execution_count": 115,
     "metadata": {},
     "output_type": "execute_result"
    }
   ],
   "source": [
    "df=pd.read_csv('fmnist_small.csv')\n",
    "df.head()"
   ]
  },
  {
   "cell_type": "code",
   "execution_count": 116,
   "metadata": {},
   "outputs": [],
   "source": [
    "class CustomDataset(Dataset):\n",
    "    def __init__(self,x,y):\n",
    "        self.features=torch.tensor(x,dtype=torch.float32)\n",
    "        self.labels=torch.tensor(y,dtype=torch.long)\n",
    "\n",
    "    def __len__(self):\n",
    "        return self.features.shape[0]\n",
    "    \n",
    "    def __getitem__(self, index):\n",
    "        return self.features[index],self.labels[index]"
   ]
  },
  {
   "cell_type": "code",
   "execution_count": 117,
   "metadata": {},
   "outputs": [],
   "source": [
    "x=df.iloc[:,1:].values\n",
    "y=df.iloc[:,0].values"
   ]
  },
  {
   "cell_type": "code",
   "execution_count": 118,
   "metadata": {},
   "outputs": [],
   "source": [
    "x_train,x_test,y_train,y_test=train_test_split(x,y,test_size=0.2,random_state=42)"
   ]
  },
  {
   "cell_type": "code",
   "execution_count": 119,
   "metadata": {},
   "outputs": [],
   "source": [
    "x_train=x_train/255.0\n",
    "x_test=x_test/255.0"
   ]
  },
  {
   "cell_type": "code",
   "execution_count": 120,
   "metadata": {},
   "outputs": [],
   "source": [
    "\n",
    "train_data=CustomDataset(x_train,y_train)\n",
    "test_data=CustomDataset(x_test,y_test)"
   ]
  },
  {
   "cell_type": "code",
   "execution_count": 121,
   "metadata": {},
   "outputs": [],
   "source": [
    "class MyNN(nn.Module):\n",
    "    def __init__(self,input_layer,output_layer,hidden_layers,neurons_per_layer_list,dropout_rate):    \n",
    "        super().__init__()\n",
    "        layers=[]\n",
    "        for i in range(hidden_layers):\n",
    "            layers.append(nn.Linear(input_layer,neurons_per_layer_list[i]))\n",
    "            layers.append(nn.BatchNorm1d(neurons_per_layer_list[i]))\n",
    "            layers.append(nn.ReLU())\n",
    "            layers.append(nn.Dropout(dropout_rate))\n",
    "            input_layer=neurons_per_layer_list[i]\n",
    "        layers.append(nn.Linear(neurons_per_layer_list[i],output_layer))\n",
    "        self.model=nn.Sequential(*layers)\n",
    "    def forward(self,x):\n",
    "        return self.model(x)"
   ]
  },
  {
   "cell_type": "code",
   "execution_count": 122,
   "metadata": {},
   "outputs": [],
   "source": [
    "def objective(trial):\n",
    "    #next hyperparamter value from the search space\n",
    "    hidden_layers=trial.suggest_int(\"hidden_layers\",1,5)\n",
    "    # neurons_per_layer=trial.suggest_int(\"neurons_per_layer\",8,128,step=8)\n",
    "    neurons_per_layer_list=[]\n",
    "    for i in range(hidden_layers):\n",
    "        neurons_per_layer_list.append(trial.suggest_int(f\"neural_layer_{i}\",32,128,step=8))\n",
    "\n",
    "    epochs=trial.suggest_int(\"epochs\",10,50,step=10)\n",
    "    \n",
    "    learning_rate=trial.suggest_float(\"learning_rate\",1e-5,1e-1,log=True)\n",
    "    \n",
    "    dropout_rate=trial.suggest_float(\"dropout_rate\",0.1,0.5,step=0.1)\n",
    "    \n",
    "    batch_size=trial.suggest_categorical(\"batch_size\",[16,32,64,128])\n",
    "    \n",
    "    optimizer_name=trial.suggest_categorical(\"optimizer\",['Adam','SGD','RMSprop'])\n",
    "    \n",
    "    weight_decay=trial.suggest_float(\"weigh_decay\",1e-5,1e-3,log=True)\n",
    "\n",
    "\n",
    "    train_dataloader=DataLoader(train_data,batch_size=batch_size,pin_memory=True,shuffle=True)\n",
    "    test_dataloader=DataLoader(test_data,batch_size=batch_size,pin_memory=True,shuffle=False)\n",
    "    #model init \n",
    "    input_layer=784\n",
    "    output_layer=10\n",
    "\n",
    "    model=MyNN(input_layer,output_layer,hidden_layers,neurons_per_layer_list,dropout_rate)\n",
    "    model.to(device)\n",
    "\n",
    "    #parameter initialisation\n",
    "    criterion=nn.CrossEntropyLoss()\n",
    "\n",
    "\n",
    "    if optimizer_name == 'Adam':\n",
    "        optimizer=optim.Adam(model.parameters(), lr=learning_rate, weight_decay=weight_decay)\n",
    "    elif optimizer_name == 'SGD':\n",
    "        optimizer=optim.SGD(model.parameters(), lr=learning_rate, weight_decay=weight_decay)\n",
    "    else:\n",
    "        optimizer=optim.RMSprop(model.parameters(), lr=learning_rate, weight_decay=weight_decay)\n",
    "    #traning loop\n",
    "    for epoch in range(epochs):\n",
    "        for batch_features,batch_labels in train_dataloader:\n",
    "            batch_features,batch_labels=batch_features.to(device),batch_labels.to(device)\n",
    "\n",
    "            #forward pass\n",
    "            outputs=model.forward(batch_features)\n",
    "            #loss\n",
    "            loss=criterion(outputs,batch_labels)\n",
    "            optimizer.zero_grad()\n",
    "            #backward pass\n",
    "            loss.backward()\n",
    "            #update grad\n",
    "            optimizer.step()\n",
    "    #evaluation\n",
    "    model.eval()\n",
    "    total=0\n",
    "    correct=0\n",
    "\n",
    "    with torch.no_grad():\n",
    "        for batch_features,batch_labels in test_dataloader:\n",
    "            batch_features,batch_labels=batch_features.to(device),batch_labels.to(device)\n",
    "            outputs=model.forward(batch_features)\n",
    "            _,predicted=torch.max(outputs,1)\n",
    "            total=total+batch_labels.shape[0]\n",
    "            correct=correct+(predicted==batch_labels).sum().item()\n",
    "        accuracy=correct/total\n",
    "    return accuracy\n",
    "\n"
   ]
  },
  {
   "cell_type": "code",
   "execution_count": 123,
   "metadata": {},
   "outputs": [
    {
     "name": "stderr",
     "output_type": "stream",
     "text": [
      "[I 2025-03-20 17:45:44,963] A new study created in memory with name: no-name-1c46f228-298d-42a2-aa95-957ac80f9db5\n"
     ]
    }
   ],
   "source": [
    "study=optuna.create_study(direction='maximize')"
   ]
  },
  {
   "cell_type": "code",
   "execution_count": 124,
   "metadata": {},
   "outputs": [
    {
     "name": "stderr",
     "output_type": "stream",
     "text": [
      "[I 2025-03-20 17:45:45,776] Trial 0 finished with value: 0.8075 and parameters: {'hidden_layers': 3, 'neural_layer_0': 104, 'neural_layer_1': 32, 'neural_layer_2': 72, 'epochs': 10, 'learning_rate': 0.005405681788968536, 'dropout_rate': 0.1, 'batch_size': 128, 'optimizer': 'Adam', 'weigh_decay': 1.366353290776703e-05}. Best is trial 0 with value: 0.8075.\n",
      "[I 2025-03-20 17:45:54,261] Trial 1 finished with value: 0.815 and parameters: {'hidden_layers': 3, 'neural_layer_0': 48, 'neural_layer_1': 40, 'neural_layer_2': 112, 'epochs': 40, 'learning_rate': 0.07492014681503498, 'dropout_rate': 0.2, 'batch_size': 32, 'optimizer': 'SGD', 'weigh_decay': 3.603833707695593e-05}. Best is trial 1 with value: 0.815.\n",
      "[I 2025-03-20 17:45:55,371] Trial 2 finished with value: 0.8041666666666667 and parameters: {'hidden_layers': 2, 'neural_layer_0': 56, 'neural_layer_1': 120, 'epochs': 10, 'learning_rate': 0.009684405652817954, 'dropout_rate': 0.5, 'batch_size': 64, 'optimizer': 'Adam', 'weigh_decay': 8.805392690525794e-05}. Best is trial 1 with value: 0.815.\n",
      "[I 2025-03-20 17:45:59,218] Trial 3 finished with value: 0.8166666666666667 and parameters: {'hidden_layers': 5, 'neural_layer_0': 88, 'neural_layer_1': 72, 'neural_layer_2': 32, 'neural_layer_3': 64, 'neural_layer_4': 120, 'epochs': 40, 'learning_rate': 4.14589453036786e-05, 'dropout_rate': 0.2, 'batch_size': 128, 'optimizer': 'RMSprop', 'weigh_decay': 1.7913068968007232e-05}. Best is trial 3 with value: 0.8166666666666667.\n",
      "[I 2025-03-20 17:46:06,749] Trial 4 finished with value: 0.815 and parameters: {'hidden_layers': 1, 'neural_layer_0': 32, 'epochs': 50, 'learning_rate': 0.00013331933311177386, 'dropout_rate': 0.5, 'batch_size': 32, 'optimizer': 'RMSprop', 'weigh_decay': 2.309156649214501e-05}. Best is trial 3 with value: 0.8166666666666667.\n",
      "[I 2025-03-20 17:46:28,445] Trial 5 finished with value: 0.815 and parameters: {'hidden_layers': 4, 'neural_layer_0': 128, 'neural_layer_1': 48, 'neural_layer_2': 32, 'neural_layer_3': 64, 'epochs': 40, 'learning_rate': 1.4022991299183704e-05, 'dropout_rate': 0.2, 'batch_size': 16, 'optimizer': 'RMSprop', 'weigh_decay': 7.08581786091982e-05}. Best is trial 3 with value: 0.8166666666666667.\n",
      "[I 2025-03-20 17:46:44,629] Trial 6 finished with value: 0.8258333333333333 and parameters: {'hidden_layers': 5, 'neural_layer_0': 96, 'neural_layer_1': 104, 'neural_layer_2': 104, 'neural_layer_3': 72, 'neural_layer_4': 128, 'epochs': 30, 'learning_rate': 0.007282340573085661, 'dropout_rate': 0.30000000000000004, 'batch_size': 16, 'optimizer': 'SGD', 'weigh_decay': 1.0701208471293877e-05}. Best is trial 6 with value: 0.8258333333333333.\n",
      "[I 2025-03-20 17:46:46,196] Trial 7 finished with value: 0.08083333333333333 and parameters: {'hidden_layers': 5, 'neural_layer_0': 56, 'neural_layer_1': 72, 'neural_layer_2': 40, 'neural_layer_3': 64, 'neural_layer_4': 88, 'epochs': 10, 'learning_rate': 2.2897146745846744e-05, 'dropout_rate': 0.4, 'batch_size': 64, 'optimizer': 'SGD', 'weigh_decay': 2.9117646116772633e-05}. Best is trial 6 with value: 0.8258333333333333.\n",
      "[I 2025-03-20 17:47:04,879] Trial 8 finished with value: 0.6233333333333333 and parameters: {'hidden_layers': 4, 'neural_layer_0': 112, 'neural_layer_1': 128, 'neural_layer_2': 56, 'neural_layer_3': 88, 'epochs': 40, 'learning_rate': 0.00010350313194109016, 'dropout_rate': 0.4, 'batch_size': 16, 'optimizer': 'SGD', 'weigh_decay': 0.00040841432086336106}. Best is trial 6 with value: 0.8258333333333333.\n",
      "[I 2025-03-20 17:47:05,952] Trial 9 finished with value: 0.6458333333333334 and parameters: {'hidden_layers': 1, 'neural_layer_0': 32, 'epochs': 20, 'learning_rate': 0.05017237418462606, 'dropout_rate': 0.2, 'batch_size': 128, 'optimizer': 'Adam', 'weigh_decay': 0.0001230949146956816}. Best is trial 6 with value: 0.8258333333333333.\n"
     ]
    }
   ],
   "source": [
    "study.optimize(objective,n_trials=10)"
   ]
  },
  {
   "cell_type": "code",
   "execution_count": 125,
   "metadata": {},
   "outputs": [
    {
     "name": "stdout",
     "output_type": "stream",
     "text": [
      "The best trial is : {'hidden_layers': 5, 'neural_layer_0': 96, 'neural_layer_1': 104, 'neural_layer_2': 104, 'neural_layer_3': 72, 'neural_layer_4': 128, 'epochs': 30, 'learning_rate': 0.007282340573085661, 'dropout_rate': 0.30000000000000004, 'batch_size': 16, 'optimizer': 'SGD', 'weigh_decay': 1.0701208471293877e-05}\n",
      "The best accuracy value is : 0.8258333333333333\n"
     ]
    }
   ],
   "source": [
    "print(f\"The best trial is : {study.best_params}\")\n",
    "print(f\"The best accuracy value is : {study.best_value}\")\n"
   ]
  },
  {
   "cell_type": "code",
   "execution_count": 126,
   "metadata": {},
   "outputs": [
    {
     "name": "stdout",
     "output_type": "stream",
     "text": [
      "The best trial is : {'hidden_layers': 5, 'neural_layer_0': 96, 'neural_layer_1': 104, 'neural_layer_2': 104, 'neural_layer_3': 72, 'neural_layer_4': 128, 'epochs': 30, 'learning_rate': 0.007282340573085661, 'dropout_rate': 0.30000000000000004, 'batch_size': 16, 'optimizer': 'SGD', 'weigh_decay': 1.0701208471293877e-05}\n",
      "Neuron counts per layer:\n",
      "Layer 1: 96 neurons\n",
      "Layer 2: 104 neurons\n",
      "Layer 3: 104 neurons\n",
      "Layer 4: 72 neurons\n",
      "Layer 5: 128 neurons\n"
     ]
    }
   ],
   "source": [
    "best_trial = study.best_trial\n",
    "print(f\"The best trial is : {best_trial.params}\")\n",
    "hidden_layers = best_trial.params['hidden_layers']\n",
    "print(\"Neuron counts per layer:\")\n",
    "for i in range(hidden_layers):\n",
    "    layer_name = f\"neural_layer_{i}\"\n",
    "    if layer_name in best_trial.params:\n",
    "        print(f\"Layer {i+1}: {best_trial.params[layer_name]} neurons\")"
   ]
  },
  {
   "cell_type": "code",
   "execution_count": null,
   "metadata": {},
   "outputs": [],
   "source": []
  }
 ],
 "metadata": {
  "kernelspec": {
   "display_name": "base",
   "language": "python",
   "name": "python3"
  },
  "language_info": {
   "codemirror_mode": {
    "name": "ipython",
    "version": 3
   },
   "file_extension": ".py",
   "mimetype": "text/x-python",
   "name": "python",
   "nbconvert_exporter": "python",
   "pygments_lexer": "ipython3",
   "version": "3.12.4"
  }
 },
 "nbformat": 4,
 "nbformat_minor": 2
}
