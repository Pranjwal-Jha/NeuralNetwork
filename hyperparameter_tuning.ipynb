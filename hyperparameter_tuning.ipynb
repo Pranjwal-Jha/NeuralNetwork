{
 "cells": [
  {
   "cell_type": "code",
   "execution_count": 154,
   "metadata": {},
   "outputs": [],
   "source": [
    "import pandas as pd\n",
    "from sklearn.model_selection import train_test_split\n",
    "import torch\n",
    "from torch.utils.data import Dataset, DataLoader\n",
    "import torch.nn as nn\n",
    "import torch.optim as optim\n",
    "import matplotlib.pyplot as plt\n",
    "import optuna\n",
    "import mlflow"
   ]
  },
  {
   "cell_type": "code",
   "execution_count": 155,
   "metadata": {},
   "outputs": [
    {
     "name": "stdout",
     "output_type": "stream",
     "text": [
      "Using device cuda\n"
     ]
    }
   ],
   "source": [
    "device=torch.device('cuda' if torch.cuda.is_available() else 'cpu')\n",
    "print(f'Using device {device}')"
   ]
  },
  {
   "cell_type": "code",
   "execution_count": 156,
   "metadata": {},
   "outputs": [
    {
     "data": {
      "text/html": [
       "<div>\n",
       "<style scoped>\n",
       "    .dataframe tbody tr th:only-of-type {\n",
       "        vertical-align: middle;\n",
       "    }\n",
       "\n",
       "    .dataframe tbody tr th {\n",
       "        vertical-align: top;\n",
       "    }\n",
       "\n",
       "    .dataframe thead th {\n",
       "        text-align: right;\n",
       "    }\n",
       "</style>\n",
       "<table border=\"1\" class=\"dataframe\">\n",
       "  <thead>\n",
       "    <tr style=\"text-align: right;\">\n",
       "      <th></th>\n",
       "      <th>label</th>\n",
       "      <th>pixel1</th>\n",
       "      <th>pixel2</th>\n",
       "      <th>pixel3</th>\n",
       "      <th>pixel4</th>\n",
       "      <th>pixel5</th>\n",
       "      <th>pixel6</th>\n",
       "      <th>pixel7</th>\n",
       "      <th>pixel8</th>\n",
       "      <th>pixel9</th>\n",
       "      <th>...</th>\n",
       "      <th>pixel775</th>\n",
       "      <th>pixel776</th>\n",
       "      <th>pixel777</th>\n",
       "      <th>pixel778</th>\n",
       "      <th>pixel779</th>\n",
       "      <th>pixel780</th>\n",
       "      <th>pixel781</th>\n",
       "      <th>pixel782</th>\n",
       "      <th>pixel783</th>\n",
       "      <th>pixel784</th>\n",
       "    </tr>\n",
       "  </thead>\n",
       "  <tbody>\n",
       "    <tr>\n",
       "      <th>0</th>\n",
       "      <td>9</td>\n",
       "      <td>0</td>\n",
       "      <td>0</td>\n",
       "      <td>0</td>\n",
       "      <td>0</td>\n",
       "      <td>0</td>\n",
       "      <td>0</td>\n",
       "      <td>0</td>\n",
       "      <td>0</td>\n",
       "      <td>0</td>\n",
       "      <td>...</td>\n",
       "      <td>0</td>\n",
       "      <td>7</td>\n",
       "      <td>0</td>\n",
       "      <td>50</td>\n",
       "      <td>205</td>\n",
       "      <td>196</td>\n",
       "      <td>213</td>\n",
       "      <td>165</td>\n",
       "      <td>0</td>\n",
       "      <td>0</td>\n",
       "    </tr>\n",
       "    <tr>\n",
       "      <th>1</th>\n",
       "      <td>7</td>\n",
       "      <td>0</td>\n",
       "      <td>0</td>\n",
       "      <td>0</td>\n",
       "      <td>0</td>\n",
       "      <td>0</td>\n",
       "      <td>0</td>\n",
       "      <td>0</td>\n",
       "      <td>0</td>\n",
       "      <td>0</td>\n",
       "      <td>...</td>\n",
       "      <td>0</td>\n",
       "      <td>0</td>\n",
       "      <td>0</td>\n",
       "      <td>0</td>\n",
       "      <td>0</td>\n",
       "      <td>0</td>\n",
       "      <td>0</td>\n",
       "      <td>0</td>\n",
       "      <td>0</td>\n",
       "      <td>0</td>\n",
       "    </tr>\n",
       "    <tr>\n",
       "      <th>2</th>\n",
       "      <td>0</td>\n",
       "      <td>0</td>\n",
       "      <td>0</td>\n",
       "      <td>0</td>\n",
       "      <td>0</td>\n",
       "      <td>0</td>\n",
       "      <td>1</td>\n",
       "      <td>0</td>\n",
       "      <td>0</td>\n",
       "      <td>0</td>\n",
       "      <td>...</td>\n",
       "      <td>142</td>\n",
       "      <td>142</td>\n",
       "      <td>142</td>\n",
       "      <td>21</td>\n",
       "      <td>0</td>\n",
       "      <td>3</td>\n",
       "      <td>0</td>\n",
       "      <td>0</td>\n",
       "      <td>0</td>\n",
       "      <td>0</td>\n",
       "    </tr>\n",
       "    <tr>\n",
       "      <th>3</th>\n",
       "      <td>8</td>\n",
       "      <td>0</td>\n",
       "      <td>0</td>\n",
       "      <td>0</td>\n",
       "      <td>0</td>\n",
       "      <td>0</td>\n",
       "      <td>0</td>\n",
       "      <td>0</td>\n",
       "      <td>0</td>\n",
       "      <td>0</td>\n",
       "      <td>...</td>\n",
       "      <td>0</td>\n",
       "      <td>0</td>\n",
       "      <td>0</td>\n",
       "      <td>0</td>\n",
       "      <td>0</td>\n",
       "      <td>0</td>\n",
       "      <td>0</td>\n",
       "      <td>0</td>\n",
       "      <td>0</td>\n",
       "      <td>0</td>\n",
       "    </tr>\n",
       "    <tr>\n",
       "      <th>4</th>\n",
       "      <td>8</td>\n",
       "      <td>0</td>\n",
       "      <td>0</td>\n",
       "      <td>0</td>\n",
       "      <td>0</td>\n",
       "      <td>0</td>\n",
       "      <td>0</td>\n",
       "      <td>0</td>\n",
       "      <td>0</td>\n",
       "      <td>0</td>\n",
       "      <td>...</td>\n",
       "      <td>213</td>\n",
       "      <td>203</td>\n",
       "      <td>174</td>\n",
       "      <td>151</td>\n",
       "      <td>188</td>\n",
       "      <td>10</td>\n",
       "      <td>0</td>\n",
       "      <td>0</td>\n",
       "      <td>0</td>\n",
       "      <td>0</td>\n",
       "    </tr>\n",
       "  </tbody>\n",
       "</table>\n",
       "<p>5 rows × 785 columns</p>\n",
       "</div>"
      ],
      "text/plain": [
       "   label  pixel1  pixel2  pixel3  pixel4  pixel5  pixel6  pixel7  pixel8  \\\n",
       "0      9       0       0       0       0       0       0       0       0   \n",
       "1      7       0       0       0       0       0       0       0       0   \n",
       "2      0       0       0       0       0       0       1       0       0   \n",
       "3      8       0       0       0       0       0       0       0       0   \n",
       "4      8       0       0       0       0       0       0       0       0   \n",
       "\n",
       "   pixel9  ...  pixel775  pixel776  pixel777  pixel778  pixel779  pixel780  \\\n",
       "0       0  ...         0         7         0        50       205       196   \n",
       "1       0  ...         0         0         0         0         0         0   \n",
       "2       0  ...       142       142       142        21         0         3   \n",
       "3       0  ...         0         0         0         0         0         0   \n",
       "4       0  ...       213       203       174       151       188        10   \n",
       "\n",
       "   pixel781  pixel782  pixel783  pixel784  \n",
       "0       213       165         0         0  \n",
       "1         0         0         0         0  \n",
       "2         0         0         0         0  \n",
       "3         0         0         0         0  \n",
       "4         0         0         0         0  \n",
       "\n",
       "[5 rows x 785 columns]"
      ]
     },
     "execution_count": 156,
     "metadata": {},
     "output_type": "execute_result"
    }
   ],
   "source": [
    "df=pd.read_csv('fmnist_small.csv')\n",
    "df.head()"
   ]
  },
  {
   "cell_type": "code",
   "execution_count": 157,
   "metadata": {},
   "outputs": [],
   "source": [
    "class CustomDataset(Dataset):\n",
    "    def __init__(self,x,y):\n",
    "        self.features=torch.tensor(x,dtype=torch.float32)\n",
    "        self.labels=torch.tensor(y,dtype=torch.long)\n",
    "\n",
    "    def __len__(self):\n",
    "        return self.features.shape[0]\n",
    "    \n",
    "    def __getitem__(self, index):\n",
    "        return self.features[index],self.labels[index]"
   ]
  },
  {
   "cell_type": "code",
   "execution_count": 158,
   "metadata": {},
   "outputs": [],
   "source": [
    "x=df.iloc[:,1:].values\n",
    "y=df.iloc[:,0].values"
   ]
  },
  {
   "cell_type": "code",
   "execution_count": 159,
   "metadata": {},
   "outputs": [],
   "source": [
    "x_train,x_test,y_train,y_test=train_test_split(x,y,test_size=0.2,random_state=42)"
   ]
  },
  {
   "cell_type": "code",
   "execution_count": 160,
   "metadata": {},
   "outputs": [],
   "source": [
    "x_train=x_train/255.0\n",
    "x_test=x_test/255.0"
   ]
  },
  {
   "cell_type": "code",
   "execution_count": 161,
   "metadata": {},
   "outputs": [],
   "source": [
    "\n",
    "train_data=CustomDataset(x_train,y_train)\n",
    "test_data=CustomDataset(x_test,y_test)"
   ]
  },
  {
   "cell_type": "code",
   "execution_count": 162,
   "metadata": {},
   "outputs": [],
   "source": [
    "class MyNN(nn.Module):\n",
    "    def __init__(self,input_layer,output_layer,hidden_layers,neurons_per_layer_list,dropout_rate):    \n",
    "        super().__init__()\n",
    "        layers=[]\n",
    "        for i in range(hidden_layers):\n",
    "            layers.append(nn.Linear(input_layer,neurons_per_layer_list[i]))\n",
    "            layers.append(nn.BatchNorm1d(neurons_per_layer_list[i]))\n",
    "            layers.append(nn.ReLU())\n",
    "            layers.append(nn.Dropout(dropout_rate))\n",
    "            input_layer=neurons_per_layer_list[i]\n",
    "        layers.append(nn.Linear(neurons_per_layer_list[i],output_layer))\n",
    "        self.model=nn.Sequential(*layers)\n",
    "    def forward(self,x):\n",
    "        return self.model(x)"
   ]
  },
  {
   "cell_type": "code",
   "execution_count": 163,
   "metadata": {},
   "outputs": [],
   "source": [
    "def objective(trial):\n",
    "    #next hyperparamter value from the search space\n",
    "    hidden_layers=trial.suggest_int(\"hidden_layers\",1,5)\n",
    "    # with mlflow.start_run(nested=True):  # Start a new nested run for each trial\n",
    "    #     mlflow.log_param(\"hidden_layers\", hidden_layers)\n",
    "    # neurons_per_layer=trial.suggest_int(\"neurons_per_layer\",8,128,step=8)\n",
    "    neurons_per_layer_list=[]\n",
    "    for i in range(hidden_layers):\n",
    "        neurons_per_layer_list.append(trial.suggest_int(f\"neural_layer_{i}\",32,128,step=8))\n",
    "        # mlflow.log_param(f\"neural_layer_{i}\",neurons_per_layer_list[i])\n",
    "\n",
    "\n",
    "    epochs=trial.suggest_int(\"epochs\",10,50,step=10)\n",
    "    # mlflow.log_param(\"epochs\",epochs)\n",
    "\n",
    "    \n",
    "    learning_rate=trial.suggest_float(\"learning_rate\",1e-5,1e-1,log=True)\n",
    "    # mlflow.log_param(\"learning_rate\",learning_rate)\n",
    "    \n",
    "    dropout_rate=trial.suggest_float(\"dropout_rate\",0.1,0.5,step=0.1)\n",
    "    # mlflow.log_param(\"dropout_rate\",dropout_rate)\n",
    "    \n",
    "    batch_size=trial.suggest_categorical(\"batch_size\",[16,32,64,128])\n",
    "    # mlflow.log_param(\"batch_size\",batch_size)\n",
    "    \n",
    "    optimizer_name=trial.suggest_categorical(\"optimizer\",['Adam','SGD','RMSprop'])\n",
    "    # mlflow.log_param(\"optimizer_name\",optimizer_name)\n",
    "    \n",
    "    weight_decay=trial.suggest_float(\"weigh_decay\",1e-5,1e-3,log=True)\n",
    "    # mlflow.log_param(\"weight_decay\",weight_decay)\n",
    "\n",
    "\n",
    "    train_dataloader=DataLoader(train_data,batch_size=batch_size,pin_memory=True,shuffle=True)\n",
    "    test_dataloader=DataLoader(test_data,batch_size=batch_size,pin_memory=True,shuffle=False)\n",
    "    #model init \n",
    "    input_layer=784\n",
    "    output_layer=10\n",
    "\n",
    "    model=MyNN(input_layer,output_layer,hidden_layers,neurons_per_layer_list,dropout_rate)\n",
    "    model.to(device)\n",
    "\n",
    "    #parameter initialisation\n",
    "    criterion=nn.CrossEntropyLoss()\n",
    "\n",
    "\n",
    "    if optimizer_name == 'Adam':\n",
    "        optimizer=optim.Adam(model.parameters(), lr=learning_rate, weight_decay=weight_decay)\n",
    "    elif optimizer_name == 'SGD':\n",
    "        optimizer=optim.SGD(model.parameters(), lr=learning_rate, weight_decay=weight_decay)\n",
    "    else:\n",
    "        optimizer=optim.RMSprop(model.parameters(), lr=learning_rate, weight_decay=weight_decay)\n",
    "    #traning loop\n",
    "    for epoch in range(epochs):\n",
    "        for batch_features,batch_labels in train_dataloader:\n",
    "            batch_features,batch_labels=batch_features.to(device),batch_labels.to(device)\n",
    "\n",
    "            #forward pass\n",
    "            outputs=model.forward(batch_features)\n",
    "            #loss\n",
    "            loss=criterion(outputs,batch_labels)\n",
    "            optimizer.zero_grad()\n",
    "            #backward pass\n",
    "            loss.backward()\n",
    "            #update grad\n",
    "            optimizer.step()\n",
    "    #evaluation\n",
    "    model.eval()\n",
    "    total=0\n",
    "    correct=0\n",
    "\n",
    "    with torch.no_grad():\n",
    "        for batch_features,batch_labels in test_dataloader:\n",
    "            batch_features,batch_labels=batch_features.to(device),batch_labels.to(device)\n",
    "            outputs=model.forward(batch_features)\n",
    "            _,predicted=torch.max(outputs,1)\n",
    "            total=total+batch_labels.shape[0]\n",
    "            correct=correct+(predicted==batch_labels).sum().item()\n",
    "        accuracy=correct/total\n",
    "    # mlflow.log_metric(\"accuracy\",accuracy)\n",
    "    # mlflow.pytorch.log_model(model,\"model\")\n",
    "    return accuracy\n",
    "\n"
   ]
  },
  {
   "cell_type": "code",
   "execution_count": 164,
   "metadata": {},
   "outputs": [
    {
     "name": "stderr",
     "output_type": "stream",
     "text": [
      "[I 2025-03-20 18:10:06,748] A new study created in memory with name: no-name-2fcdb4ef-fbd2-45d8-8075-983c3a35221f\n"
     ]
    }
   ],
   "source": [
    "study=optuna.create_study(direction='maximize')"
   ]
  },
  {
   "cell_type": "code",
   "execution_count": 165,
   "metadata": {},
   "outputs": [
    {
     "name": "stderr",
     "output_type": "stream",
     "text": [
      "[I 2025-03-20 18:10:10,122] Trial 0 finished with value: 0.715 and parameters: {'hidden_layers': 4, 'neural_layer_0': 128, 'neural_layer_1': 64, 'neural_layer_2': 96, 'neural_layer_3': 40, 'epochs': 20, 'learning_rate': 0.02368203021465393, 'dropout_rate': 0.5, 'batch_size': 64, 'optimizer': 'RMSprop', 'weigh_decay': 2.2641669923829026e-05}. Best is trial 0 with value: 0.715.\n",
      "[I 2025-03-20 18:10:11,070] Trial 1 finished with value: 0.10833333333333334 and parameters: {'hidden_layers': 5, 'neural_layer_0': 32, 'neural_layer_1': 48, 'neural_layer_2': 96, 'neural_layer_3': 56, 'neural_layer_4': 80, 'epochs': 10, 'learning_rate': 6.428314343838843e-05, 'dropout_rate': 0.5, 'batch_size': 128, 'optimizer': 'SGD', 'weigh_decay': 0.0008063860565944939}. Best is trial 0 with value: 0.715.\n",
      "[I 2025-03-20 18:10:28,977] Trial 2 finished with value: 0.8275 and parameters: {'hidden_layers': 3, 'neural_layer_0': 40, 'neural_layer_1': 48, 'neural_layer_2': 88, 'epochs': 40, 'learning_rate': 0.0001349672086784705, 'dropout_rate': 0.1, 'batch_size': 16, 'optimizer': 'Adam', 'weigh_decay': 9.959055872936971e-05}. Best is trial 2 with value: 0.8275.\n",
      "[I 2025-03-20 18:10:30,605] Trial 3 finished with value: 0.38166666666666665 and parameters: {'hidden_layers': 5, 'neural_layer_0': 88, 'neural_layer_1': 48, 'neural_layer_2': 32, 'neural_layer_3': 80, 'neural_layer_4': 104, 'epochs': 10, 'learning_rate': 1.1363614629122065e-05, 'dropout_rate': 0.30000000000000004, 'batch_size': 64, 'optimizer': 'RMSprop', 'weigh_decay': 0.0001385941110736498}. Best is trial 2 with value: 0.8275.\n",
      "[I 2025-03-20 18:10:50,739] Trial 4 finished with value: 0.8033333333333333 and parameters: {'hidden_layers': 4, 'neural_layer_0': 88, 'neural_layer_1': 96, 'neural_layer_2': 88, 'neural_layer_3': 112, 'epochs': 40, 'learning_rate': 0.00016236121141340623, 'dropout_rate': 0.1, 'batch_size': 16, 'optimizer': 'RMSprop', 'weigh_decay': 7.98062623297181e-05}. Best is trial 2 with value: 0.8275.\n",
      "[I 2025-03-20 18:10:59,723] Trial 5 finished with value: 0.8358333333333333 and parameters: {'hidden_layers': 2, 'neural_layer_0': 96, 'neural_layer_1': 48, 'epochs': 50, 'learning_rate': 2.417452365909722e-05, 'dropout_rate': 0.1, 'batch_size': 32, 'optimizer': 'RMSprop', 'weigh_decay': 0.00010876655810351885}. Best is trial 5 with value: 0.8358333333333333.\n",
      "[I 2025-03-20 18:11:06,518] Trial 6 finished with value: 0.5158333333333334 and parameters: {'hidden_layers': 2, 'neural_layer_0': 56, 'neural_layer_1': 120, 'epochs': 40, 'learning_rate': 2.082808945637275e-05, 'dropout_rate': 0.2, 'batch_size': 32, 'optimizer': 'SGD', 'weigh_decay': 6.774126840833408e-05}. Best is trial 5 with value: 0.8358333333333333.\n",
      "[I 2025-03-20 18:11:11,205] Trial 7 finished with value: 0.8183333333333334 and parameters: {'hidden_layers': 4, 'neural_layer_0': 128, 'neural_layer_1': 56, 'neural_layer_2': 40, 'neural_layer_3': 128, 'epochs': 50, 'learning_rate': 0.0003657710162992565, 'dropout_rate': 0.4, 'batch_size': 128, 'optimizer': 'RMSprop', 'weigh_decay': 0.0004067234178717831}. Best is trial 5 with value: 0.8358333333333333.\n",
      "[I 2025-03-20 18:11:14,156] Trial 8 finished with value: 0.8325 and parameters: {'hidden_layers': 3, 'neural_layer_0': 96, 'neural_layer_1': 48, 'neural_layer_2': 96, 'epochs': 40, 'learning_rate': 0.0005513908041067546, 'dropout_rate': 0.30000000000000004, 'batch_size': 128, 'optimizer': 'Adam', 'weigh_decay': 8.861816400425959e-05}. Best is trial 5 with value: 0.8358333333333333.\n",
      "[I 2025-03-20 18:11:16,999] Trial 9 finished with value: 0.31916666666666665 and parameters: {'hidden_layers': 4, 'neural_layer_0': 40, 'neural_layer_1': 88, 'neural_layer_2': 80, 'neural_layer_3': 88, 'epochs': 20, 'learning_rate': 3.368249470427755e-05, 'dropout_rate': 0.1, 'batch_size': 64, 'optimizer': 'SGD', 'weigh_decay': 0.00020820807157982611}. Best is trial 5 with value: 0.8358333333333333.\n"
     ]
    }
   ],
   "source": [
    "study.optimize(objective,n_trials=10)"
   ]
  },
  {
   "cell_type": "code",
   "execution_count": 166,
   "metadata": {},
   "outputs": [
    {
     "name": "stdout",
     "output_type": "stream",
     "text": [
      "The best trial is : {'hidden_layers': 2, 'neural_layer_0': 96, 'neural_layer_1': 48, 'epochs': 50, 'learning_rate': 2.417452365909722e-05, 'dropout_rate': 0.1, 'batch_size': 32, 'optimizer': 'RMSprop', 'weigh_decay': 0.00010876655810351885}\n",
      "The best accuracy value is : 0.8358333333333333\n"
     ]
    }
   ],
   "source": [
    "print(f\"The best trial is : {study.best_params}\")\n",
    "print(f\"The best accuracy value is : {study.best_value}\")\n"
   ]
  },
  {
   "cell_type": "code",
   "execution_count": 167,
   "metadata": {},
   "outputs": [
    {
     "name": "stdout",
     "output_type": "stream",
     "text": [
      "The best trial is : {'hidden_layers': 2, 'neural_layer_0': 96, 'neural_layer_1': 48, 'epochs': 50, 'learning_rate': 2.417452365909722e-05, 'dropout_rate': 0.1, 'batch_size': 32, 'optimizer': 'RMSprop', 'weigh_decay': 0.00010876655810351885}\n",
      "Neuron counts per layer:\n",
      "Layer 1: 96 neurons\n",
      "Layer 2: 48 neurons\n"
     ]
    }
   ],
   "source": [
    "best_trial = study.best_trial\n",
    "print(f\"The best trial is : {best_trial.params}\")\n",
    "hidden_layers = best_trial.params['hidden_layers']\n",
    "print(\"Neuron counts per layer:\")\n",
    "for i in range(hidden_layers):\n",
    "    layer_name = f\"neural_layer_{i}\"\n",
    "    if layer_name in best_trial.params:\n",
    "        print(f\"Layer {i+1}: {best_trial.params[layer_name]} neurons\")"
   ]
  },
  {
   "cell_type": "code",
   "execution_count": null,
   "metadata": {},
   "outputs": [],
   "source": []
  }
 ],
 "metadata": {
  "kernelspec": {
   "display_name": "base",
   "language": "python",
   "name": "python3"
  },
  "language_info": {
   "codemirror_mode": {
    "name": "ipython",
    "version": 3
   },
   "file_extension": ".py",
   "mimetype": "text/x-python",
   "name": "python",
   "nbconvert_exporter": "python",
   "pygments_lexer": "ipython3",
   "version": "3.12.4"
  }
 },
 "nbformat": 4,
 "nbformat_minor": 2
}
